{
  "nbformat": 4,
  "nbformat_minor": 0,
  "metadata": {
    "colab": {
      "name": "Untitled0.ipynb",
      "provenance": [],
      "authorship_tag": "ABX9TyMWxCxLSlczlWGJJ3/EBqYu",
      "include_colab_link": true
    },
    "kernelspec": {
      "name": "python3",
      "display_name": "Python 3"
    }
  },
  "cells": [
    {
      "cell_type": "markdown",
      "metadata": {
        "id": "view-in-github",
        "colab_type": "text"
      },
      "source": [
        "<a href=\"https://colab.research.google.com/github/LilyYC/JobSearch/blob/master/SIMM.ipynb\" target=\"_parent\"><img src=\"https://colab.research.google.com/assets/colab-badge.svg\" alt=\"Open In Colab\"/></a>"
      ]
    },
    {
      "cell_type": "code",
      "metadata": {
        "id": "wi9oPFb1ttKr"
      },
      "source": [
        "# ISDA SIMM: Initial Margin\r\n",
        "<font size=5> Capture Delta risk, Vega risk, Curvature, Inter-curve basis & Concentration risk </font>\r\n",
        "<font size=4> inputs: sensitivities; </font>\r\n",
        "\r\n",
        "Six Risk Classes: interest Rate, Credit (qualifying, non-qualifying), equity, commodity, FX\r\n"
      ],
      "execution_count": null,
      "outputs": []
    }
  ]
}